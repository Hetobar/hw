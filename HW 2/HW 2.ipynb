{
 "cells": [
  {
   "cell_type": "code",
   "execution_count": 113,
   "metadata": {
    "collapsed": true
   },
   "outputs": [],
   "source": [
    "# -*- coding: utf-8 -*-\n",
    "\n",
    "import nltk\n",
    "import codecs\n",
    "from nltk.collocations import *\n",
    "from nltk.metrics.spearman import *\n",
    "\n",
    "goldstandart = ['суд удовлетворить иск', 'суд принять решение', 'суд отклонить иск',\n",
    "                'суд возобновить слушание', 'суд наложить арест', 'суд вынести приговор', \n",
    "                'суд выслушать приговор','суд исполнить решение', 'суд обжаловать приговор', \n",
    "                'суд рассматривать дело']"
   ]
  },
  {
   "cell_type": "code",
   "execution_count": 114,
   "metadata": {
    "collapsed": false
   },
   "outputs": [],
   "source": [
    "def fileopen(file='D:\\\\court-V-N.csv'):\n",
    "    text = []\n",
    "    collocations=codecs.open(file,'r', encoding='utf-8')\n",
    "    for x in collocations:\n",
    "        splitter = x.split()\n",
    "        x = ' '.join(splitter)\n",
    "        x = x.lower().replace(',', '').replace('\\n', '').replace('  ', ' ')\n",
    "        x_arr = x.split()\n",
    "        text.append(x_arr) \n",
    "    return text"
   ]
  },
  {
   "cell_type": "code",
   "execution_count": 115,
   "metadata": {
    "collapsed": true
   },
   "outputs": [],
   "source": [
    "# метод с Log-likelihood\n",
    "def first():\n",
    "    print ('Первый метод: ')\n",
    "    trigram_measures = nltk.collocations.TrigramAssocMeasures()\n",
    "    arr = []\n",
    "    ignored_words = nltk.corpus.stopwords.words('russian')\n",
    "    finder = TrigramCollocationFinder.from_documents(documents)\n",
    "    finder.apply_word_filter(lambda w: len(w) < 3 or w.lower() in ignored_words)\n",
    "    finder.apply_freq_filter(10)\n",
    "    for _i in finder.nbest(trigram_measures.likelihood_ratio, 10):\n",
    "        result = str(_i[0]) + ' ' + str(_i[1]) + ' ' + str(_i[2])\n",
    "        arr.append(result)\n",
    "    spearman(arr)"
   ]
  },
  {
   "cell_type": "code",
   "execution_count": 116,
   "metadata": {
    "collapsed": true
   },
   "outputs": [],
   "source": [
    "# метод делает список из 12 самых частотных триграмм\n",
    "def second():\n",
    "    print (\"Второй метод:\")\n",
    "    trigram_measures = nltk.collocations.TrigramAssocMeasures()\n",
    "    arr = []\n",
    "    finder = TrigramCollocationFinder.from_documents(documents)\n",
    "    for _i in sorted(finder.nbest(trigram_measures.raw_freq, 10)):\n",
    "        result = str(_i[0]) + ' ' + str(_i[1]) + ' ' + str(_i[2])\n",
    "        arr.append(result)\n",
    "    spearman(arr[::-1])\n"
   ]
  },
  {
   "cell_type": "code",
   "execution_count": 117,
   "metadata": {
    "collapsed": true
   },
   "outputs": [],
   "source": [
    "def spearman(result):\n",
    "    print('Золотой стандарт:', list(ranks_from_sequence(goldstandart)))\n",
    "    print(' ')\n",
    "    print('Сгенерированный методом список:', list(ranks_from_sequence(result)))\n",
    "    print(' ')\n",
    "    print('Коэффициент корреляции Спирмана  %0.1f' % spearman_correlation(list(ranks_from_sequence(goldstandart)), list(ranks_from_sequence(result))))"
   ]
  },
  {
   "cell_type": "code",
   "execution_count": 118,
   "metadata": {
    "collapsed": false
   },
   "outputs": [
    {
     "name": "stdout",
     "output_type": "stream",
     "text": [
      "Первый метод: \n",
      "Золотой стандарт: [('суд удовлетворить иск', 0), ('суд принять решение', 1), ('суд отклонить иск', 2), ('суд возобновить слушание', 3), ('суд наложить арест', 4), ('суд вынести приговор', 5), ('суд выслушать приговор', 6), ('суд исполнить решение', 7), ('суд обжаловать приговор', 8), ('суд рассматривать дело', 9)]\n",
      " \n",
      "Сгенерированный методом список: [('суд удовлетворить иск', 0), ('суд признать виновная', 1), ('суд удовлетворить ходатайство', 2), ('суд принять решение', 3), ('выдать санкция арест', 4), ('суд вынести решение', 5), ('суд выдать санкция', 6), ('суд наложить арест', 7)]\n",
      " \n",
      "Коэффициент корреляции Спирмана  -2.2\n",
      "Второй метод:\n",
      "Золотой стандарт: [('суд удовлетворить иск', 0), ('суд принять решение', 1), ('суд отклонить иск', 2), ('суд возобновить слушание', 3), ('суд наложить арест', 4), ('суд вынести приговор', 5), ('суд выслушать приговор', 6), ('суд исполнить решение', 7), ('суд обжаловать приговор', 8), ('суд рассматривать дело', 9)]\n",
      " \n",
      "Сгенерированный методом список: [('суд удовлетворить ходатайство', 0), ('суд удовлетворить иск', 1), ('суд санкционировать арест', 2), ('суд принять решение', 3), ('суд признать виновная', 4), ('суд отказать удовлетворение', 5), ('суд наложить арест', 6), ('суд вынести решение', 7), ('суд выдать санкция', 8), ('выдать санкция арест', 9)]\n",
      " \n",
      "Коэффициент корреляции Спирмана  -1.2\n"
     ]
    }
   ],
   "source": [
    "if __name__ == '__main__':\n",
    "    text = fileopen()\n",
    "    first()\n",
    "    second()"
   ]
  },
  {
   "cell_type": "code",
   "execution_count": null,
   "metadata": {
    "collapsed": true
   },
   "outputs": [],
   "source": [
    "# Два метода: первый - LL, второй - 12 самых частотных триграмм (сортированы по убыванию). Мера качества - ранговый коэффициент\n",
    "# корреляции Спирмана между двумя списками (золотой стандарт и сгенерированный). Второй метод работает лучше, это видно \n",
    "# как по коэффициенту корреляции Спирмана, так и при сравнении отранжированных списков выше.\n",
    "# Золотой стандарт делал основываясь на интуиции и просмотрев csv"
   ]
  }
 ],
 "metadata": {
  "kernelspec": {
   "display_name": "Python 3",
   "language": "python",
   "name": "python3"
  },
  "language_info": {
   "codemirror_mode": {
    "name": "ipython",
    "version": 3
   },
   "file_extension": ".py",
   "mimetype": "text/x-python",
   "name": "python",
   "nbconvert_exporter": "python",
   "pygments_lexer": "ipython3",
   "version": "3.6.0"
  }
 },
 "nbformat": 4,
 "nbformat_minor": 2
}
